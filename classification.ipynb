{
  "cells": [
    {
      "cell_type": "markdown",
      "metadata": {
        "id": "J3rR6UrwYmTq"
      },
      "source": [
        "# **Deteksi Serangan DDOS dengan Support Vector Machine**"
      ]
    },
    {
      "cell_type": "markdown",
      "metadata": {
        "id": "jvTktiSAVlXR"
      },
      "source": [
        "## **Data Input**\n"
      ]
    },
    {
      "cell_type": "markdown",
      "metadata": {
        "id": "7EnV_ZCDV60Q"
      },
      "source": [
        "### Import Library yang dibutuhkan"
      ]
    },
    {
      "cell_type": "code",
      "execution_count": 2,
      "metadata": {
        "id": "QU0Ig1bQSCUL"
      },
      "outputs": [],
      "source": [
        "import numpy as np\n",
        "import pandas as pd\n",
        "import matplotlib.pyplot as plt\n",
        "from sklearn.feature_selection import chi2, SelectKBest\n",
        "from sklearn.metrics import confusion_matrix, classification_report, accuracy_score\n",
        "from sklearn.preprocessing import LabelEncoder\n",
        "from sklearn.preprocessing import MinMaxScaler\n",
        "from sklearn.model_selection import train_test_split\n",
        "from sklearn.svm import SVC\n",
        "from sklearn import metrics\n",
        "import pickle\n",
        "import os"
      ]
    },
    {
      "cell_type": "markdown",
      "metadata": {
        "id": "ryxBoUGXVwRV"
      },
      "source": [
        "### Membaca dataset"
      ]
    },
    {
      "cell_type": "code",
      "execution_count": 3,
      "metadata": {
        "colab": {
          "base_uri": "https://localhost:8080/",
          "height": 463
        },
        "id": "3VFn419iSCUO",
        "outputId": "5520c60f-cfc8-443b-955d-d684b75bcde4"
      },
      "outputs": [
        {
          "data": {
            "text/html": [
              "<div>\n",
              "<style scoped>\n",
              "    .dataframe tbody tr th:only-of-type {\n",
              "        vertical-align: middle;\n",
              "    }\n",
              "\n",
              "    .dataframe tbody tr th {\n",
              "        vertical-align: top;\n",
              "    }\n",
              "\n",
              "    .dataframe thead th {\n",
              "        text-align: right;\n",
              "    }\n",
              "</style>\n",
              "<table border=\"1\" class=\"dataframe\">\n",
              "  <thead>\n",
              "    <tr style=\"text-align: right;\">\n",
              "      <th></th>\n",
              "      <th>Flow ID</th>\n",
              "      <th>Source IP</th>\n",
              "      <th>Source Port</th>\n",
              "      <th>Destination IP</th>\n",
              "      <th>Destination Port</th>\n",
              "      <th>Protocol</th>\n",
              "      <th>Timestamp</th>\n",
              "      <th>Flow Duration</th>\n",
              "      <th>Total Fwd Packets</th>\n",
              "      <th>Total Backward Packets</th>\n",
              "      <th>...</th>\n",
              "      <th>min_seg_size_forward</th>\n",
              "      <th>Active Mean</th>\n",
              "      <th>Active Std</th>\n",
              "      <th>Active Max</th>\n",
              "      <th>Active Min</th>\n",
              "      <th>Idle Mean</th>\n",
              "      <th>Idle Std</th>\n",
              "      <th>Idle Max</th>\n",
              "      <th>Idle Min</th>\n",
              "      <th>Label</th>\n",
              "    </tr>\n",
              "  </thead>\n",
              "  <tbody>\n",
              "    <tr>\n",
              "      <th>0</th>\n",
              "      <td>192.168.10.5-104.16.207.165-54865-443-6</td>\n",
              "      <td>104.16.207.165</td>\n",
              "      <td>443</td>\n",
              "      <td>192.168.10.5</td>\n",
              "      <td>54865</td>\n",
              "      <td>6</td>\n",
              "      <td>7/7/2017 3:30</td>\n",
              "      <td>3</td>\n",
              "      <td>2</td>\n",
              "      <td>0</td>\n",
              "      <td>...</td>\n",
              "      <td>20</td>\n",
              "      <td>0.0</td>\n",
              "      <td>0.0</td>\n",
              "      <td>0</td>\n",
              "      <td>0</td>\n",
              "      <td>0.0</td>\n",
              "      <td>0.0</td>\n",
              "      <td>0</td>\n",
              "      <td>0</td>\n",
              "      <td>BENIGN</td>\n",
              "    </tr>\n",
              "    <tr>\n",
              "      <th>1</th>\n",
              "      <td>192.168.10.5-104.16.28.216-55054-80-6</td>\n",
              "      <td>104.16.28.216</td>\n",
              "      <td>80</td>\n",
              "      <td>192.168.10.5</td>\n",
              "      <td>55054</td>\n",
              "      <td>6</td>\n",
              "      <td>7/7/2017 3:30</td>\n",
              "      <td>109</td>\n",
              "      <td>1</td>\n",
              "      <td>1</td>\n",
              "      <td>...</td>\n",
              "      <td>20</td>\n",
              "      <td>0.0</td>\n",
              "      <td>0.0</td>\n",
              "      <td>0</td>\n",
              "      <td>0</td>\n",
              "      <td>0.0</td>\n",
              "      <td>0.0</td>\n",
              "      <td>0</td>\n",
              "      <td>0</td>\n",
              "      <td>BENIGN</td>\n",
              "    </tr>\n",
              "    <tr>\n",
              "      <th>2</th>\n",
              "      <td>192.168.10.5-104.16.28.216-55055-80-6</td>\n",
              "      <td>104.16.28.216</td>\n",
              "      <td>80</td>\n",
              "      <td>192.168.10.5</td>\n",
              "      <td>55055</td>\n",
              "      <td>6</td>\n",
              "      <td>7/7/2017 3:30</td>\n",
              "      <td>52</td>\n",
              "      <td>1</td>\n",
              "      <td>1</td>\n",
              "      <td>...</td>\n",
              "      <td>20</td>\n",
              "      <td>0.0</td>\n",
              "      <td>0.0</td>\n",
              "      <td>0</td>\n",
              "      <td>0</td>\n",
              "      <td>0.0</td>\n",
              "      <td>0.0</td>\n",
              "      <td>0</td>\n",
              "      <td>0</td>\n",
              "      <td>BENIGN</td>\n",
              "    </tr>\n",
              "    <tr>\n",
              "      <th>3</th>\n",
              "      <td>192.168.10.16-104.17.241.25-46236-443-6</td>\n",
              "      <td>104.17.241.25</td>\n",
              "      <td>443</td>\n",
              "      <td>192.168.10.16</td>\n",
              "      <td>46236</td>\n",
              "      <td>6</td>\n",
              "      <td>7/7/2017 3:30</td>\n",
              "      <td>34</td>\n",
              "      <td>1</td>\n",
              "      <td>1</td>\n",
              "      <td>...</td>\n",
              "      <td>20</td>\n",
              "      <td>0.0</td>\n",
              "      <td>0.0</td>\n",
              "      <td>0</td>\n",
              "      <td>0</td>\n",
              "      <td>0.0</td>\n",
              "      <td>0.0</td>\n",
              "      <td>0</td>\n",
              "      <td>0</td>\n",
              "      <td>BENIGN</td>\n",
              "    </tr>\n",
              "    <tr>\n",
              "      <th>4</th>\n",
              "      <td>192.168.10.5-104.19.196.102-54863-443-6</td>\n",
              "      <td>104.19.196.102</td>\n",
              "      <td>443</td>\n",
              "      <td>192.168.10.5</td>\n",
              "      <td>54863</td>\n",
              "      <td>6</td>\n",
              "      <td>7/7/2017 3:30</td>\n",
              "      <td>3</td>\n",
              "      <td>2</td>\n",
              "      <td>0</td>\n",
              "      <td>...</td>\n",
              "      <td>20</td>\n",
              "      <td>0.0</td>\n",
              "      <td>0.0</td>\n",
              "      <td>0</td>\n",
              "      <td>0</td>\n",
              "      <td>0.0</td>\n",
              "      <td>0.0</td>\n",
              "      <td>0</td>\n",
              "      <td>0</td>\n",
              "      <td>BENIGN</td>\n",
              "    </tr>\n",
              "  </tbody>\n",
              "</table>\n",
              "<p>5 rows × 85 columns</p>\n",
              "</div>"
            ],
            "text/plain": [
              "                                   Flow ID       Source IP   Source Port  \\\n",
              "0  192.168.10.5-104.16.207.165-54865-443-6  104.16.207.165           443   \n",
              "1    192.168.10.5-104.16.28.216-55054-80-6   104.16.28.216            80   \n",
              "2    192.168.10.5-104.16.28.216-55055-80-6   104.16.28.216            80   \n",
              "3  192.168.10.16-104.17.241.25-46236-443-6   104.17.241.25           443   \n",
              "4  192.168.10.5-104.19.196.102-54863-443-6  104.19.196.102           443   \n",
              "\n",
              "   Destination IP   Destination Port   Protocol      Timestamp  \\\n",
              "0    192.168.10.5              54865          6  7/7/2017 3:30   \n",
              "1    192.168.10.5              55054          6  7/7/2017 3:30   \n",
              "2    192.168.10.5              55055          6  7/7/2017 3:30   \n",
              "3   192.168.10.16              46236          6  7/7/2017 3:30   \n",
              "4    192.168.10.5              54863          6  7/7/2017 3:30   \n",
              "\n",
              "    Flow Duration   Total Fwd Packets   Total Backward Packets  ...  \\\n",
              "0               3                   2                        0  ...   \n",
              "1             109                   1                        1  ...   \n",
              "2              52                   1                        1  ...   \n",
              "3              34                   1                        1  ...   \n",
              "4               3                   2                        0  ...   \n",
              "\n",
              "    min_seg_size_forward  Active Mean   Active Std   Active Max   Active Min  \\\n",
              "0                     20          0.0          0.0            0            0   \n",
              "1                     20          0.0          0.0            0            0   \n",
              "2                     20          0.0          0.0            0            0   \n",
              "3                     20          0.0          0.0            0            0   \n",
              "4                     20          0.0          0.0            0            0   \n",
              "\n",
              "   Idle Mean   Idle Std   Idle Max   Idle Min   Label  \n",
              "0        0.0        0.0          0          0  BENIGN  \n",
              "1        0.0        0.0          0          0  BENIGN  \n",
              "2        0.0        0.0          0          0  BENIGN  \n",
              "3        0.0        0.0          0          0  BENIGN  \n",
              "4        0.0        0.0          0          0  BENIGN  \n",
              "\n",
              "[5 rows x 85 columns]"
            ]
          },
          "execution_count": 3,
          "metadata": {},
          "output_type": "execute_result"
        }
      ],
      "source": [
        "dataset = pd.read_csv(\"data/dataset_ISCX.csv\", low_memory=False)\n",
        "dataset = dataset.dropna()\n",
        "dataset.head()"
      ]
    },
    {
      "cell_type": "markdown",
      "metadata": {
        "id": "YHm8FSclWsRO"
      },
      "source": [
        "### Pembersihan nama kolom pada dataset"
      ]
    },
    {
      "cell_type": "code",
      "execution_count": 4,
      "metadata": {
        "id": "UtvRZpTDSCUP"
      },
      "outputs": [],
      "source": [
        "dataset.columns = dataset.columns.str.strip()\n",
        "dataset.columns = dataset.columns.str.replace(\" \", \"_\")\n"
      ]
    },
    {
      "cell_type": "markdown",
      "metadata": {
        "id": "jZhYlTRgW2kN"
      },
      "source": [
        "### Distribusi Data Setiap Kelas"
      ]
    },
    {
      "cell_type": "code",
      "execution_count": 5,
      "metadata": {
        "colab": {
          "base_uri": "https://localhost:8080/",
          "height": 730
        },
        "id": "4Xaix5vPSCUP",
        "outputId": "008be575-1578-4c09-9a6a-18b2452b6c1e"
      },
      "outputs": [
        {
          "data": {
            "image/png": "[encoded data removed]",
            "text/plain": [
              "<Figure size 1000x1000 with 1 Axes>"
            ]
          },
          "metadata": {},
          "output_type": "display_data"
        }
      ],
      "source": [
        "label = dataset[\"Label\"].unique()\n",
        "label_count = dataset[\"Label\"].value_counts()\n",
        "plt.figure(figsize=(10, 10))\n",
        "plt.pie(label_count, labels=label, autopct=\"%1.1f%%\")\n",
        "plt.title(\"Class Distribution\")\n",
        "plt.show()"
      ]
    },
    {
      "cell_type": "markdown",
      "metadata": {
        "id": "rV5qWS32W8r5"
      },
      "source": [
        "## **Data Preprocessing**"
      ]
    },
    {
      "cell_type": "markdown",
      "metadata": {
        "id": "uH458bGWXFVN"
      },
      "source": [
        "### Merubah data kategorikal menjadi numerik"
      ]
    },
    {
      "cell_type": "code",
      "execution_count": 6,
      "metadata": {
        "id": "sb7mZSCtSCUP"
      },
      "outputs": [],
      "source": [
        "labelencoder = LabelEncoder()\n",
        "labelencoder.fit(dataset[\"Label\"])\n",
        "dataset[\"Label\"] = labelencoder.transform(dataset[\"Label\"])"
      ]
    },
    {
      "cell_type": "markdown",
      "metadata": {
        "id": "nHywMJ1FXNEG"
      },
      "source": [
        "### Menghapus Fitur yang memiliki nilai bukan float64 ataupun infinity"
      ]
    },
    {
      "cell_type": "code",
      "execution_count": 7,
      "metadata": {
        "colab": {
          "base_uri": "https://localhost:8080/",
          "height": 443
        },
        "id": "hQgU73fGSCUQ",
        "outputId": "be752c0c-e911-4cfb-96e0-4e5ceeab9a31"
      },
      "outputs": [
        {
          "data": {
            "text/html": [
              "<div>\n",
              "<style scoped>\n",
              "    .dataframe tbody tr th:only-of-type {\n",
              "        vertical-align: middle;\n",
              "    }\n",
              "\n",
              "    .dataframe tbody tr th {\n",
              "        vertical-align: top;\n",
              "    }\n",
              "\n",
              "    .dataframe thead th {\n",
              "        text-align: right;\n",
              "    }\n",
              "</style>\n",
              "<table border=\"1\" class=\"dataframe\">\n",
              "  <thead>\n",
              "    <tr style=\"text-align: right;\">\n",
              "      <th></th>\n",
              "      <th>Source_Port</th>\n",
              "      <th>Destination_Port</th>\n",
              "      <th>Protocol</th>\n",
              "      <th>Flow_Duration</th>\n",
              "      <th>Total_Fwd_Packets</th>\n",
              "      <th>Total_Backward_Packets</th>\n",
              "      <th>Total_Length_of_Fwd_Packets</th>\n",
              "      <th>Total_Length_of_Bwd_Packets</th>\n",
              "      <th>Fwd_Packet_Length_Max</th>\n",
              "      <th>Fwd_Packet_Length_Min</th>\n",
              "      <th>...</th>\n",
              "      <th>min_seg_size_forward</th>\n",
              "      <th>Active_Mean</th>\n",
              "      <th>Active_Std</th>\n",
              "      <th>Active_Max</th>\n",
              "      <th>Active_Min</th>\n",
              "      <th>Idle_Mean</th>\n",
              "      <th>Idle_Std</th>\n",
              "      <th>Idle_Max</th>\n",
              "      <th>Idle_Min</th>\n",
              "      <th>Label</th>\n",
              "    </tr>\n",
              "  </thead>\n",
              "  <tbody>\n",
              "    <tr>\n",
              "      <th>0</th>\n",
              "      <td>443.0</td>\n",
              "      <td>54865.0</td>\n",
              "      <td>6.0</td>\n",
              "      <td>3.0</td>\n",
              "      <td>2.0</td>\n",
              "      <td>0.0</td>\n",
              "      <td>12.0</td>\n",
              "      <td>0.0</td>\n",
              "      <td>6.0</td>\n",
              "      <td>6.0</td>\n",
              "      <td>...</td>\n",
              "      <td>20.0</td>\n",
              "      <td>0.0</td>\n",
              "      <td>0.0</td>\n",
              "      <td>0.0</td>\n",
              "      <td>0.0</td>\n",
              "      <td>0.0</td>\n",
              "      <td>0.0</td>\n",
              "      <td>0.0</td>\n",
              "      <td>0.0</td>\n",
              "      <td>0.0</td>\n",
              "    </tr>\n",
              "    <tr>\n",
              "      <th>1</th>\n",
              "      <td>80.0</td>\n",
              "      <td>55054.0</td>\n",
              "      <td>6.0</td>\n",
              "      <td>109.0</td>\n",
              "      <td>1.0</td>\n",
              "      <td>1.0</td>\n",
              "      <td>6.0</td>\n",
              "      <td>6.0</td>\n",
              "      <td>6.0</td>\n",
              "      <td>6.0</td>\n",
              "      <td>...</td>\n",
              "      <td>20.0</td>\n",
              "      <td>0.0</td>\n",
              "      <td>0.0</td>\n",
              "      <td>0.0</td>\n",
              "      <td>0.0</td>\n",
              "      <td>0.0</td>\n",
              "      <td>0.0</td>\n",
              "      <td>0.0</td>\n",
              "      <td>0.0</td>\n",
              "      <td>0.0</td>\n",
              "    </tr>\n",
              "    <tr>\n",
              "      <th>2</th>\n",
              "      <td>80.0</td>\n",
              "      <td>55055.0</td>\n",
              "      <td>6.0</td>\n",
              "      <td>52.0</td>\n",
              "      <td>1.0</td>\n",
              "      <td>1.0</td>\n",
              "      <td>6.0</td>\n",
              "      <td>6.0</td>\n",
              "      <td>6.0</td>\n",
              "      <td>6.0</td>\n",
              "      <td>...</td>\n",
              "      <td>20.0</td>\n",
              "      <td>0.0</td>\n",
              "      <td>0.0</td>\n",
              "      <td>0.0</td>\n",
              "      <td>0.0</td>\n",
              "      <td>0.0</td>\n",
              "      <td>0.0</td>\n",
              "      <td>0.0</td>\n",
              "      <td>0.0</td>\n",
              "      <td>0.0</td>\n",
              "    </tr>\n",
              "    <tr>\n",
              "      <th>3</th>\n",
              "      <td>443.0</td>\n",
              "      <td>46236.0</td>\n",
              "      <td>6.0</td>\n",
              "      <td>34.0</td>\n",
              "      <td>1.0</td>\n",
              "      <td>1.0</td>\n",
              "      <td>6.0</td>\n",
              "      <td>6.0</td>\n",
              "      <td>6.0</td>\n",
              "      <td>6.0</td>\n",
              "      <td>...</td>\n",
              "      <td>20.0</td>\n",
              "      <td>0.0</td>\n",
              "      <td>0.0</td>\n",
              "      <td>0.0</td>\n",
              "      <td>0.0</td>\n",
              "      <td>0.0</td>\n",
              "      <td>0.0</td>\n",
              "      <td>0.0</td>\n",
              "      <td>0.0</td>\n",
              "      <td>0.0</td>\n",
              "    </tr>\n",
              "    <tr>\n",
              "      <th>4</th>\n",
              "      <td>443.0</td>\n",
              "      <td>54863.0</td>\n",
              "      <td>6.0</td>\n",
              "      <td>3.0</td>\n",
              "      <td>2.0</td>\n",
              "      <td>0.0</td>\n",
              "      <td>12.0</td>\n",
              "      <td>0.0</td>\n",
              "      <td>6.0</td>\n",
              "      <td>6.0</td>\n",
              "      <td>...</td>\n",
              "      <td>20.0</td>\n",
              "      <td>0.0</td>\n",
              "      <td>0.0</td>\n",
              "      <td>0.0</td>\n",
              "      <td>0.0</td>\n",
              "      <td>0.0</td>\n",
              "      <td>0.0</td>\n",
              "      <td>0.0</td>\n",
              "      <td>0.0</td>\n",
              "      <td>0.0</td>\n",
              "    </tr>\n",
              "    <tr>\n",
              "      <th>...</th>\n",
              "      <td>...</td>\n",
              "      <td>...</td>\n",
              "      <td>...</td>\n",
              "      <td>...</td>\n",
              "      <td>...</td>\n",
              "      <td>...</td>\n",
              "      <td>...</td>\n",
              "      <td>...</td>\n",
              "      <td>...</td>\n",
              "      <td>...</td>\n",
              "      <td>...</td>\n",
              "      <td>...</td>\n",
              "      <td>...</td>\n",
              "      <td>...</td>\n",
              "      <td>...</td>\n",
              "      <td>...</td>\n",
              "      <td>...</td>\n",
              "      <td>...</td>\n",
              "      <td>...</td>\n",
              "      <td>...</td>\n",
              "      <td>...</td>\n",
              "    </tr>\n",
              "    <tr>\n",
              "      <th>225740</th>\n",
              "      <td>80.0</td>\n",
              "      <td>61374.0</td>\n",
              "      <td>6.0</td>\n",
              "      <td>61.0</td>\n",
              "      <td>1.0</td>\n",
              "      <td>1.0</td>\n",
              "      <td>6.0</td>\n",
              "      <td>6.0</td>\n",
              "      <td>6.0</td>\n",
              "      <td>6.0</td>\n",
              "      <td>...</td>\n",
              "      <td>20.0</td>\n",
              "      <td>0.0</td>\n",
              "      <td>0.0</td>\n",
              "      <td>0.0</td>\n",
              "      <td>0.0</td>\n",
              "      <td>0.0</td>\n",
              "      <td>0.0</td>\n",
              "      <td>0.0</td>\n",
              "      <td>0.0</td>\n",
              "      <td>0.0</td>\n",
              "    </tr>\n",
              "    <tr>\n",
              "      <th>225741</th>\n",
              "      <td>80.0</td>\n",
              "      <td>61378.0</td>\n",
              "      <td>6.0</td>\n",
              "      <td>72.0</td>\n",
              "      <td>1.0</td>\n",
              "      <td>1.0</td>\n",
              "      <td>6.0</td>\n",
              "      <td>6.0</td>\n",
              "      <td>6.0</td>\n",
              "      <td>6.0</td>\n",
              "      <td>...</td>\n",
              "      <td>20.0</td>\n",
              "      <td>0.0</td>\n",
              "      <td>0.0</td>\n",
              "      <td>0.0</td>\n",
              "      <td>0.0</td>\n",
              "      <td>0.0</td>\n",
              "      <td>0.0</td>\n",
              "      <td>0.0</td>\n",
              "      <td>0.0</td>\n",
              "      <td>0.0</td>\n",
              "    </tr>\n",
              "    <tr>\n",
              "      <th>225742</th>\n",
              "      <td>80.0</td>\n",
              "      <td>61375.0</td>\n",
              "      <td>6.0</td>\n",
              "      <td>75.0</td>\n",
              "      <td>1.0</td>\n",
              "      <td>1.0</td>\n",
              "      <td>6.0</td>\n",
              "      <td>6.0</td>\n",
              "      <td>6.0</td>\n",
              "      <td>6.0</td>\n",
              "      <td>...</td>\n",
              "      <td>20.0</td>\n",
              "      <td>0.0</td>\n",
              "      <td>0.0</td>\n",
              "      <td>0.0</td>\n",
              "      <td>0.0</td>\n",
              "      <td>0.0</td>\n",
              "      <td>0.0</td>\n",
              "      <td>0.0</td>\n",
              "      <td>0.0</td>\n",
              "      <td>0.0</td>\n",
              "    </tr>\n",
              "    <tr>\n",
              "      <th>225743</th>\n",
              "      <td>80.0</td>\n",
              "      <td>61323.0</td>\n",
              "      <td>6.0</td>\n",
              "      <td>48.0</td>\n",
              "      <td>2.0</td>\n",
              "      <td>0.0</td>\n",
              "      <td>12.0</td>\n",
              "      <td>0.0</td>\n",
              "      <td>6.0</td>\n",
              "      <td>6.0</td>\n",
              "      <td>...</td>\n",
              "      <td>20.0</td>\n",
              "      <td>0.0</td>\n",
              "      <td>0.0</td>\n",
              "      <td>0.0</td>\n",
              "      <td>0.0</td>\n",
              "      <td>0.0</td>\n",
              "      <td>0.0</td>\n",
              "      <td>0.0</td>\n",
              "      <td>0.0</td>\n",
              "      <td>0.0</td>\n",
              "    </tr>\n",
              "    <tr>\n",
              "      <th>225744</th>\n",
              "      <td>80.0</td>\n",
              "      <td>61326.0</td>\n",
              "      <td>6.0</td>\n",
              "      <td>68.0</td>\n",
              "      <td>1.0</td>\n",
              "      <td>1.0</td>\n",
              "      <td>6.0</td>\n",
              "      <td>6.0</td>\n",
              "      <td>6.0</td>\n",
              "      <td>6.0</td>\n",
              "      <td>...</td>\n",
              "      <td>20.0</td>\n",
              "      <td>0.0</td>\n",
              "      <td>0.0</td>\n",
              "      <td>0.0</td>\n",
              "      <td>0.0</td>\n",
              "      <td>0.0</td>\n",
              "      <td>0.0</td>\n",
              "      <td>0.0</td>\n",
              "      <td>0.0</td>\n",
              "      <td>0.0</td>\n",
              "    </tr>\n",
              "  </tbody>\n",
              "</table>\n",
              "<p>225741 rows × 79 columns</p>\n",
              "</div>"
            ],
            "text/plain": [
              "        Source_Port  Destination_Port  Protocol  Flow_Duration  \\\n",
              "0             443.0           54865.0       6.0            3.0   \n",
              "1              80.0           55054.0       6.0          109.0   \n",
              "2              80.0           55055.0       6.0           52.0   \n",
              "3             443.0           46236.0       6.0           34.0   \n",
              "4             443.0           54863.0       6.0            3.0   \n",
              "...             ...               ...       ...            ...   \n",
              "225740         80.0           61374.0       6.0           61.0   \n",
              "225741         80.0           61378.0       6.0           72.0   \n",
              "225742         80.0           61375.0       6.0           75.0   \n",
              "225743         80.0           61323.0       6.0           48.0   \n",
              "225744         80.0           61326.0       6.0           68.0   \n",
              "\n",
              "        Total_Fwd_Packets  Total_Backward_Packets  \\\n",
              "0                     2.0                     0.0   \n",
              "1                     1.0                     1.0   \n",
              "2                     1.0                     1.0   \n",
              "3                     1.0                     1.0   \n",
              "4                     2.0                     0.0   \n",
              "...                   ...                     ...   \n",
              "225740                1.0                     1.0   \n",
              "225741                1.0                     1.0   \n",
              "225742                1.0                     1.0   \n",
              "225743                2.0                     0.0   \n",
              "225744                1.0                     1.0   \n",
              "\n",
              "        Total_Length_of_Fwd_Packets  Total_Length_of_Bwd_Packets  \\\n",
              "0                              12.0                          0.0   \n",
              "1                               6.0                          6.0   \n",
              "2                               6.0                          6.0   \n",
              "3                               6.0                          6.0   \n",
              "4                              12.0                          0.0   \n",
              "...                             ...                          ...   \n",
              "225740                          6.0                          6.0   \n",
              "225741                          6.0                          6.0   \n",
              "225742                          6.0                          6.0   \n",
              "225743                         12.0                          0.0   \n",
              "225744                          6.0                          6.0   \n",
              "\n",
              "        Fwd_Packet_Length_Max  Fwd_Packet_Length_Min  ...  \\\n",
              "0                         6.0                    6.0  ...   \n",
              "1                         6.0                    6.0  ...   \n",
              "2                         6.0                    6.0  ...   \n",
              "3                         6.0                    6.0  ...   \n",
              "4                         6.0                    6.0  ...   \n",
              "...                       ...                    ...  ...   \n",
              "225740                    6.0                    6.0  ...   \n",
              "225741                    6.0                    6.0  ...   \n",
              "225742                    6.0                    6.0  ...   \n",
              "225743                    6.0                    6.0  ...   \n",
              "225744                    6.0                    6.0  ...   \n",
              "\n",
              "        min_seg_size_forward  Active_Mean  Active_Std  Active_Max  Active_Min  \\\n",
              "0                       20.0          0.0         0.0         0.0         0.0   \n",
              "1                       20.0          0.0         0.0         0.0         0.0   \n",
              "2                       20.0          0.0         0.0         0.0         0.0   \n",
              "3                       20.0          0.0         0.0         0.0         0.0   \n",
              "4                       20.0          0.0         0.0         0.0         0.0   \n",
              "...                      ...          ...         ...         ...         ...   \n",
              "225740                  20.0          0.0         0.0         0.0         0.0   \n",
              "225741                  20.0          0.0         0.0         0.0         0.0   \n",
              "225742                  20.0          0.0         0.0         0.0         0.0   \n",
              "225743                  20.0          0.0         0.0         0.0         0.0   \n",
              "225744                  20.0          0.0         0.0         0.0         0.0   \n",
              "\n",
              "        Idle_Mean  Idle_Std  Idle_Max  Idle_Min  Label  \n",
              "0             0.0       0.0       0.0       0.0    0.0  \n",
              "1             0.0       0.0       0.0       0.0    0.0  \n",
              "2             0.0       0.0       0.0       0.0    0.0  \n",
              "3             0.0       0.0       0.0       0.0    0.0  \n",
              "4             0.0       0.0       0.0       0.0    0.0  \n",
              "...           ...       ...       ...       ...    ...  \n",
              "225740        0.0       0.0       0.0       0.0    0.0  \n",
              "225741        0.0       0.0       0.0       0.0    0.0  \n",
              "225742        0.0       0.0       0.0       0.0    0.0  \n",
              "225743        0.0       0.0       0.0       0.0    0.0  \n",
              "225744        0.0       0.0       0.0       0.0    0.0  \n",
              "\n",
              "[225741 rows x 79 columns]"
            ]
          },
          "execution_count": 7,
          "metadata": {},
          "output_type": "execute_result"
        }
      ],
      "source": [
        "dataset = dataset.drop(\n",
        "    [\n",
        "        \"Timestamp\",\n",
        "        \"Source_IP\",\n",
        "        \"Destination_IP\",\n",
        "        \"Flow_ID\",\n",
        "        \"Flow_Bytes/s\",\n",
        "        \"Flow_Packets/s\",\n",
        "    ],\n",
        "    axis=1,\n",
        ")\n",
        "dataset = dataset.astype(\"float64\")\n",
        "dataset"
      ]
    },
    {
      "cell_type": "markdown",
      "metadata": {
        "id": "v1Jore4gXWaF"
      },
      "source": [
        "### Menampilkan Fitur yang tersedia"
      ]
    },
    {
      "cell_type": "code",
      "execution_count": 8,
      "metadata": {
        "colab": {
          "base_uri": "https://localhost:8080/"
        },
        "id": "LqMvG0-8SCUQ",
        "outputId": "0506dba0-5531-4a3f-b257-5698240cc357"
      },
      "outputs": [
        {
          "name": "stdout",
          "output_type": "stream",
          "text": [
            "<class 'pandas.core.frame.DataFrame'>\n",
            "Index: 225741 entries, 0 to 225744\n",
            "Data columns (total 79 columns):\n",
            " #   Column                       Non-Null Count   Dtype  \n",
            "---  ------                       --------------   -----  \n",
            " 0   Source_Port                  225741 non-null  float64\n",
            " 1   Destination_Port             225741 non-null  float64\n",
            " 2   Protocol                     225741 non-null  float64\n",
            " 3   Flow_Duration                225741 non-null  float64\n",
            " 4   Total_Fwd_Packets            225741 non-null  float64\n",
            " 5   Total_Backward_Packets       225741 non-null  float64\n",
            " 6   Total_Length_of_Fwd_Packets  225741 non-null  float64\n",
            " 7   Total_Length_of_Bwd_Packets  225741 non-null  float64\n",
            " 8   Fwd_Packet_Length_Max        225741 non-null  float64\n",
            " 9   Fwd_Packet_Length_Min        225741 non-null  float64\n",
            " 10  Fwd_Packet_Length_Mean       225741 non-null  float64\n",
            " 11  Fwd_Packet_Length_Std        225741 non-null  float64\n",
            " 12  Bwd_Packet_Length_Max        225741 non-null  float64\n",
            " 13  Bwd_Packet_Length_Min        225741 non-null  float64\n",
            " 14  Bwd_Packet_Length_Mean       225741 non-null  float64\n",
            " 15  Bwd_Packet_Length_Std        225741 non-null  float64\n",
            " 16  Flow_IAT_Mean                225741 non-null  float64\n",
            " 17  Flow_IAT_Std                 225741 non-null  float64\n",
            " 18  Flow_IAT_Max                 225741 non-null  float64\n",
            " 19  Flow_IAT_Min                 225741 non-null  float64\n",
            " 20  Fwd_IAT_Total                225741 non-null  float64\n",
            " 21  Fwd_IAT_Mean                 225741 non-null  float64\n",
            " 22  Fwd_IAT_Std                  225741 non-null  float64\n",
            " 23  Fwd_IAT_Max                  225741 non-null  float64\n",
            " 24  Fwd_IAT_Min                  225741 non-null  float64\n",
            " 25  Bwd_IAT_Total                225741 non-null  float64\n",
            " 26  Bwd_IAT_Mean                 225741 non-null  float64\n",
            " 27  Bwd_IAT_Std                  225741 non-null  float64\n",
            " 28  Bwd_IAT_Max                  225741 non-null  float64\n",
            " 29  Bwd_IAT_Min                  225741 non-null  float64\n",
            " 30  Fwd_PSH_Flags                225741 non-null  float64\n",
            " 31  Bwd_PSH_Flags                225741 non-null  float64\n",
            " 32  Fwd_URG_Flags                225741 non-null  float64\n",
            " 33  Bwd_URG_Flags                225741 non-null  float64\n",
            " 34  Fwd_Header_Length            225741 non-null  float64\n",
            " 35  Bwd_Header_Length            225741 non-null  float64\n",
            " 36  Fwd_Packets/s                225741 non-null  float64\n",
            " 37  Bwd_Packets/s                225741 non-null  float64\n",
            " 38  Min_Packet_Length            225741 non-null  float64\n",
            " 39  Max_Packet_Length            225741 non-null  float64\n",
            " 40  Packet_Length_Mean           225741 non-null  float64\n",
            " 41  Packet_Length_Std            225741 non-null  float64\n",
            " 42  Packet_Length_Variance       225741 non-null  float64\n",
            " 43  FIN_Flag_Count               225741 non-null  float64\n",
            " 44  SYN_Flag_Count               225741 non-null  float64\n",
            " 45  RST_Flag_Count               225741 non-null  float64\n",
            " 46  PSH_Flag_Count               225741 non-null  float64\n",
            " 47  ACK_Flag_Count               225741 non-null  float64\n",
            " 48  URG_Flag_Count               225741 non-null  float64\n",
            " 49  CWE_Flag_Count               225741 non-null  float64\n",
            " 50  ECE_Flag_Count               225741 non-null  float64\n",
            " 51  Down/Up_Ratio                225741 non-null  float64\n",
            " 52  Average_Packet_Size          225741 non-null  float64\n",
            " 53  Avg_Fwd_Segment_Size         225741 non-null  float64\n",
            " 54  Avg_Bwd_Segment_Size         225741 non-null  float64\n",
            " 55  Fwd_Header_Length.1          225741 non-null  float64\n",
            " 56  Fwd_Avg_Bytes/Bulk           225741 non-null  float64\n",
            " 57  Fwd_Avg_Packets/Bulk         225741 non-null  float64\n",
            " 58  Fwd_Avg_Bulk_Rate            225741 non-null  float64\n",
            " 59  Bwd_Avg_Bytes/Bulk           225741 non-null  float64\n",
            " 60  Bwd_Avg_Packets/Bulk         225741 non-null  float64\n",
            " 61  Bwd_Avg_Bulk_Rate            225741 non-null  float64\n",
            " 62  Subflow_Fwd_Packets          225741 non-null  float64\n",
            " 63  Subflow_Fwd_Bytes            225741 non-null  float64\n",
            " 64  Subflow_Bwd_Packets          225741 non-null  float64\n",
            " 65  Subflow_Bwd_Bytes            225741 non-null  float64\n",
            " 66  Init_Win_bytes_forward       225741 non-null  float64\n",
            " 67  Init_Win_bytes_backward      225741 non-null  float64\n",
            " 68  act_data_pkt_fwd             225741 non-null  float64\n",
            " 69  min_seg_size_forward         225741 non-null  float64\n",
            " 70  Active_Mean                  225741 non-null  float64\n",
            " 71  Active_Std                   225741 non-null  float64\n",
            " 72  Active_Max                   225741 non-null  float64\n",
            " 73  Active_Min                   225741 non-null  float64\n",
            " 74  Idle_Mean                    225741 non-null  float64\n",
            " 75  Idle_Std                     225741 non-null  float64\n",
            " 76  Idle_Max                     225741 non-null  float64\n",
            " 77  Idle_Min                     225741 non-null  float64\n",
            " 78  Label                        225741 non-null  float64\n",
            "dtypes: float64(79)\n",
            "memory usage: 137.8 MB\n",
            "None\n"
          ]
        }
      ],
      "source": [
        "print(dataset.info())"
      ]
    },
    {
      "cell_type": "markdown",
      "metadata": {
        "id": "iB9Pz_qYXcVt"
      },
      "source": [
        "### Scaling Data"
      ]
    },
    {
      "cell_type": "markdown",
      "metadata": {
        "id": "iLAtKxDZXxem"
      },
      "source": [
        "Scalling menggunakan MinMaxScalling dengan formula :\n",
        "\n",
        "![MinMaxFormula](https://img-blog.csdnimg.cn/20201127162915978.png)"
      ]
    },
    {
      "cell_type": "code",
      "execution_count": 9,
      "metadata": {
        "id": "zba7KICaSCUQ"
      },
      "outputs": [],
      "source": [
        "X = dataset.drop([\"Label\"], axis=1)\n",
        "y = dataset[\"Label\"]\n",
        "scaler = MinMaxScaler().fit(X)\n",
        "X = scaler.transform(X)"
      ]
    },
    {
      "cell_type": "markdown",
      "metadata": {
        "id": "uUVSyPB6YUoK"
      },
      "source": [
        "### Feature Selection"
      ]
    },
    {
      "cell_type": "code",
      "execution_count": 10,
      "metadata": {
        "colab": {
          "base_uri": "https://localhost:8080/"
        },
        "id": "t_Q_xW28UTLZ",
        "outputId": "e4710787-30c5-4fd7-f868-732e5d746c79"
      },
      "outputs": [
        {
          "name": "stdout",
          "output_type": "stream",
          "text": [
            "<class 'pandas.core.frame.DataFrame'>\n",
            "RangeIndex: 225741 entries, 0 to 225740\n",
            "Data columns (total 8 columns):\n",
            " #   Column                       Non-Null Count   Dtype  \n",
            "---  ------                       --------------   -----  \n",
            " 0   Destination_Port             225741 non-null  float64\n",
            " 1   Protocol                     225741 non-null  float64\n",
            " 2   Flow_Duration                225741 non-null  float64\n",
            " 3   Total_Fwd_Packets            225741 non-null  float64\n",
            " 4   Total_Backward_Packets       225741 non-null  float64\n",
            " 5   Total_Length_of_Fwd_Packets  225741 non-null  float64\n",
            " 6   Total_Length_of_Bwd_Packets  225741 non-null  float64\n",
            " 7   Fwd_Packet_Length_Max        225741 non-null  float64\n",
            "dtypes: float64(8)\n",
            "memory usage: 13.8 MB\n"
          ]
        }
      ],
      "source": [
        "XBest = SelectKBest(chi2, k=8).fit_transform(X, y)\n",
        "XBest = pd.DataFrame(XBest)\n",
        "XBest.columns = dataset.columns[1:9]\n",
        "XBest.info()"
      ]
    },
    {
      "cell_type": "markdown",
      "metadata": {
        "id": "8OosMO6IYb0v"
      },
      "source": [
        "## **Data Spliting**"
      ]
    },
    {
      "cell_type": "code",
      "execution_count": 11,
      "metadata": {
        "id": "CFOWK9yySCUQ"
      },
      "outputs": [],
      "source": [
        "train_X, test_X, train_y, test_y = train_test_split(XBest, y, test_size=0.2, random_state=42)"
      ]
    },
    {
      "cell_type": "markdown",
      "metadata": {
        "id": "oEVU-VCjYeEE"
      },
      "source": [
        "## **Model Training**"
      ]
    },
    {
      "cell_type": "code",
      "execution_count": 12,
      "metadata": {
        "id": "fOxZg_YuSCUR"
      },
      "outputs": [],
      "source": [
        "model = SVC()\n",
        "model.fit(train_X, train_y)\n",
        "pred_y = model.predict(test_X)"
      ]
    },
    {
      "cell_type": "markdown",
      "metadata": {
        "id": "ooy11X6Mb0uF"
      },
      "source": [
        "## **Model Evaluation**"
      ]
    },
    {
      "cell_type": "markdown",
      "metadata": {
        "id": "T3EiqJFNhVwd"
      },
      "source": [
        "### Classification Report"
      ]
    },
    {
      "cell_type": "code",
      "execution_count": 13,
      "metadata": {
        "id": "Vg99jeQicPNY"
      },
      "outputs": [
        {
          "name": "stdout",
          "output_type": "stream",
          "text": [
            "Classification Report: \n",
            "               precision    recall  f1-score   support\n",
            "\n",
            "      Benign       1.00      0.93      0.96     19417\n",
            "        DDoS       0.95      1.00      0.97     25732\n",
            "\n",
            "    accuracy                           0.97     45149\n",
            "   macro avg       0.97      0.96      0.97     45149\n",
            "weighted avg       0.97      0.97      0.97     45149\n",
            "\n"
          ]
        }
      ],
      "source": [
        "print(\"Classification Report: \\n\", classification_report(test_y, pred_y, target_names=[\"Benign\", \"DDoS\"]))"
      ]
    },
    {
      "cell_type": "markdown",
      "metadata": {
        "id": "l6XuS2jLcHj_"
      },
      "source": [
        "### Visualise confusion matrix matplotlib\n"
      ]
    },
    {
      "cell_type": "code",
      "execution_count": 14,
      "metadata": {
        "id": "n80DDeKLcKq4"
      },
      "outputs": [
        {
          "data": {
            "text/plain": [
              "<sklearn.metrics._plot.confusion_matrix.ConfusionMatrixDisplay at 0x2d43c5d7a50>"
            ]
          },
          "execution_count": 14,
          "metadata": {},
          "output_type": "execute_result"
        },
        {
          "data": {
            "image/png": "[encoded data removed]",
            "text/plain": [
              "<Figure size 640x480 with 2 Axes>"
            ]
          },
          "metadata": {},
          "output_type": "display_data"
        }
      ],
      "source": [
        "cm_display = metrics.ConfusionMatrixDisplay(confusion_matrix=confusion_matrix(test_y, pred_y), display_labels=[\"Benign\", \"DDoS\"])\n",
        "cm_display.plot()"
      ]
    },
    {
      "cell_type": "markdown",
      "metadata": {
        "id": "FVu9kfdyoy-D"
      },
      "source": [
        "## **Export Model**"
      ]
    },
    {
      "cell_type": "code",
      "execution_count": 15,
      "metadata": {
        "id": "3T6eHLRUox2b"
      },
      "outputs": [],
      "source": [
        "if not os.path.exists(\"model\"):\n",
        "    os.mkdir(\"model\")\n",
        "filename =\"model/svm.pkl\"\n",
        "pickle.dump(model, open(filename, 'wb'))"
      ]
    }
  ],
  "metadata": {
    "accelerator": "GPU",
    "colab": {
      "collapsed_sections": [
        "jvTktiSAVlXR"
      ],
      "gpuType": "T4",
      "provenance": []
    },
    "kernelspec": {
      "display_name": "Python 3",
      "name": "python3"
    },
    "language_info": {
      "codemirror_mode": {
        "name": "ipython",
        "version": 3
      },
      "file_extension": ".py",
      "mimetype": "text/x-python",
      "name": "python",
      "nbconvert_exporter": "python",
      "pygments_lexer": "ipython3",
      "version": "3.11.0"
    }
  },
  "nbformat": 4,
  "nbformat_minor": 0
}
